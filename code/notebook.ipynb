{
 "cells": [
  {
   "cell_type": "code",
   "execution_count": 1,
   "metadata": {},
   "outputs": [],
   "source": [
    "import pandas as pd\n",
    "import numpy  as np\n",
    "import json"
   ]
  },
  {
   "cell_type": "code",
   "execution_count": 5,
   "metadata": {},
   "outputs": [],
   "source": [
    "'''\n",
    "    converting the mobile rec csv file to parquet\n",
    "'''\n",
    "\n",
    "# the following code chunks the csv and then appends the chunks to convert them into parquet\n",
    "# it reduces the size from 4.4 GB to 1.88 GB\n",
    "'''\n",
    "import pandas as pd\n",
    "import pyarrow as pa\n",
    "import pyarrow.parquet as pq\n",
    "\n",
    "# Specify the path to your large CSV file\n",
    "csv_file     = '../review/mobilerec_final.csv'\n",
    "\n",
    "# Specify the path to the output Parquet file\n",
    "parquet_file = '../review/mobilerec_final.parquet'\n",
    "\n",
    "# Define the chunk size\n",
    "chunk_size = 100000  # Adjust based on your memory capacity\n",
    "\n",
    "# Initialize the Parquet writer\n",
    "csv_iterator = pd.read_csv(csv_file, chunksize=chunk_size)\n",
    "\n",
    "# Iterate over chunks and write to Parquet\n",
    "for i, chunk in enumerate(csv_iterator):\n",
    "    # Convert the DataFrame to an Arrow Table\n",
    "    table = pa.Table.from_pandas(chunk)\n",
    "\n",
    "    # For the first chunk, create a new Parquet file\n",
    "    if i == 0:\n",
    "        pqwriter = pq.ParquetWriter(parquet_file, table.schema)\n",
    "    \n",
    "    # Append subsequent chunks to the Parquet file\n",
    "    pqwriter.write_table(table)\n",
    "\n",
    "# Close the Parquet writer\n",
    "pqwriter.close()\n",
    "''';"
   ]
  },
  {
   "cell_type": "code",
   "execution_count": null,
   "metadata": {},
   "outputs": [],
   "source": []
  }
 ],
 "metadata": {
  "kernelspec": {
   "display_name": "mobilerec",
   "language": "python",
   "name": "python3"
  },
  "language_info": {
   "codemirror_mode": {
    "name": "ipython",
    "version": 3
   },
   "file_extension": ".py",
   "mimetype": "text/x-python",
   "name": "python",
   "nbconvert_exporter": "python",
   "pygments_lexer": "ipython3",
   "version": "3.9.19"
  }
 },
 "nbformat": 4,
 "nbformat_minor": 2
}
